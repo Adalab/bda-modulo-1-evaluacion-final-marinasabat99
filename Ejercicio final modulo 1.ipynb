{
 "cells": [
  {
   "cell_type": "markdown",
   "id": "4d3e6f50",
   "metadata": {},
   "source": [
    "Evaluación Final Módulo 1"
   ]
  },
  {
   "cell_type": "code",
   "execution_count": 125,
   "id": "7c2962be",
   "metadata": {},
   "outputs": [],
   "source": [
    "#1. inventario (lista de diccionarios)\n",
    "inventario= [{\"nombre\":\"rosas\", \"precio\":7, \"cantidad\":20} ,\n",
    "            {\"nombre\":\"lirios\", \"precio\":5, \"cantidad\":15},\n",
    "            {\"nombre\":\"claveles\", \"precio\":3, \"cantidad\":30}]"
   ]
  },
  {
   "cell_type": "code",
   "execution_count": 126,
   "id": "19fd37a0",
   "metadata": {},
   "outputs": [],
   "source": [
    "#2 clientes (lista de diccionarios)\n",
    "clientes= [{'Cliente1': {'email': 'cliente1@email.com', 'compras': []},\n",
    "            'Cliente2': {'email': 'cliente2@email.com', 'compras': []}}]"
   ]
  },
  {
   "cell_type": "code",
   "execution_count": 127,
   "id": "63c69b59",
   "metadata": {},
   "outputs": [],
   "source": [
    "#3 Ventas totales  (float)\n",
    "ventas_totales=0.0"
   ]
  },
  {
   "cell_type": "markdown",
   "id": "3cce80ca",
   "metadata": {},
   "source": [
    "Ejercicios:"
   ]
  },
  {
   "cell_type": "code",
   "execution_count": 128,
   "id": "41eba003",
   "metadata": {},
   "outputs": [],
   "source": [
    "#Hacemos función para gestionar el inventario.\n",
    "def lista_inventario (inventario):\n",
    "    print(\"Inventario actual:\")\n",
    "    for flor in inventario:\n",
    "        print(f\"nombre: {flor['nombre']}, precio: {flor['precio']}, cantidad: {flor['cantidad']}\")\n",
    "    return\n",
    "    "
   ]
  },
  {
   "cell_type": "code",
   "execution_count": 129,
   "id": "4ac6ae8b",
   "metadata": {},
   "outputs": [
    {
     "name": "stdout",
     "output_type": "stream",
     "text": [
      "Inventario actual:\n",
      "nombre: rosas, precio: 7, cantidad: 20\n",
      "nombre: lirios, precio: 5, cantidad: 15\n",
      "nombre: claveles, precio: 3, cantidad: 30\n"
     ]
    }
   ],
   "source": [
    "lista_inventario(inventario)"
   ]
  },
  {
   "cell_type": "code",
   "execution_count": 130,
   "id": "e4700f50",
   "metadata": {},
   "outputs": [],
   "source": [
    "#1.1 Agregar producto (nombre, precio, cantidad).\n",
    "def agregar_producto(inventario, nombre, precio, cantidad):\n",
    "    producto_nuevo = {'nombre': nombre, 'precio': precio, 'cantidad': cantidad}\n",
    "    inventario.append(producto_nuevo)\n",
    "    print(f\"Producto {nombre} se ha agregado al inventario.\")\n",
    "    return"
   ]
  },
  {
   "cell_type": "code",
   "execution_count": 131,
   "id": "9bb691c6",
   "metadata": {},
   "outputs": [
    {
     "name": "stdout",
     "output_type": "stream",
     "text": [
      "Producto iris se ha agregado al inventario.\n"
     ]
    }
   ],
   "source": [
    "agregar_producto(inventario, \"iris\", 9, 10)"
   ]
  },
  {
   "cell_type": "code",
   "execution_count": 132,
   "id": "43d5ab20",
   "metadata": {},
   "outputs": [
    {
     "data": {
      "text/plain": [
       "[{'nombre': 'rosas', 'precio': 7, 'cantidad': 20},\n",
       " {'nombre': 'lirios', 'precio': 5, 'cantidad': 15},\n",
       " {'nombre': 'claveles', 'precio': 3, 'cantidad': 30},\n",
       " {'nombre': 'iris', 'precio': 9, 'cantidad': 10}]"
      ]
     },
     "execution_count": 132,
     "metadata": {},
     "output_type": "execute_result"
    }
   ],
   "source": [
    "inventario"
   ]
  },
  {
   "cell_type": "code",
   "execution_count": 133,
   "id": "6e6d57bd",
   "metadata": {},
   "outputs": [],
   "source": [
    "#1.2 Itera a través del inventario y compara los nombres de los productos con el nombre proporcionado\n",
    "def actualizar_producto(inventario, nombre, cantidad):\n",
    "    for producto in inventario:\n",
    "        if producto['nombre'] == nombre:\n",
    "            #1.3 Si el producto existe, actualiza la cantidad\n",
    "            producto['cantidad'] += cantidad\n",
    "            #1.4 Si no existe, agrega un nuevo producto al inventario.\n",
    "            print(f\"Cantidad de {nombre} actualizada a {producto['cantidad']}\")\n",
    "            return"
   ]
  },
  {
   "cell_type": "code",
   "execution_count": 134,
   "id": "297ecdd1",
   "metadata": {},
   "outputs": [
    {
     "name": "stdout",
     "output_type": "stream",
     "text": [
      "Cantidad de lirios actualizada a 21\n"
     ]
    }
   ],
   "source": [
    "actualizar_producto(inventario, \"lirios\", 6)"
   ]
  },
  {
   "cell_type": "code",
   "execution_count": 135,
   "id": "3eaea481",
   "metadata": {},
   "outputs": [
    {
     "data": {
      "text/plain": [
       "[{'nombre': 'rosas', 'precio': 7, 'cantidad': 20},\n",
       " {'nombre': 'lirios', 'precio': 5, 'cantidad': 21},\n",
       " {'nombre': 'claveles', 'precio': 3, 'cantidad': 30},\n",
       " {'nombre': 'iris', 'precio': 9, 'cantidad': 10}]"
      ]
     },
     "execution_count": 135,
     "metadata": {},
     "output_type": "execute_result"
    }
   ],
   "source": [
    "inventario"
   ]
  },
  {
   "cell_type": "code",
   "execution_count": 136,
   "id": "d8c02330",
   "metadata": {},
   "outputs": [],
   "source": [
    "#2. ver_inventario()`: Muestra el inventario de productos con sus detalles.\n",
    "#- Utiliza un bucle `for` para recorrer el inventario.\n",
    "def ver_inventario():\n",
    "    print(\"Inventario de productos:\")\n",
    "    for producto in inventario:\n",
    "       print (f\"nombre: {producto['nombre']}, precio: {producto['precio']}, cantidad: {producto['cantidad']}\")\n",
    "    return\n"
   ]
  },
  {
   "cell_type": "code",
   "execution_count": 137,
   "id": "83343ad6",
   "metadata": {},
   "outputs": [
    {
     "name": "stdout",
     "output_type": "stream",
     "text": [
      "Inventario de productos:\n",
      "nombre: rosas, precio: 7, cantidad: 20\n",
      "nombre: lirios, precio: 5, cantidad: 21\n",
      "nombre: claveles, precio: 3, cantidad: 30\n",
      "nombre: iris, precio: 9, cantidad: 10\n"
     ]
    }
   ],
   "source": [
    "ver_inventario()"
   ]
  },
  {
   "cell_type": "code",
   "execution_count": 138,
   "id": "17e051d6",
   "metadata": {},
   "outputs": [],
   "source": [
    "#3. `buscar_producto(nombre)`\n",
    "producto_buscado= input(\"Porfavor, ingrese el nombre del producto que quiere buscar: \")\n",
    "def buscar_producto(inventario, producto_buscado):\n",
    "    for producto in inventario:\n",
    "        if producto['nombre'] == producto_buscado:\n",
    "            print(f\"nombre: {producto['nombre']}, precio: {producto['precio']}, cantidad: {producto['cantidad']}\")\n",
    "            return\n",
    "    else :\n",
    "        print(f\"Lo siento, el producto no se encuentra en el inventario.\")   #me ha costado entender porque solo me daba las rosas, al final con pistas de chatgpt he entendido me sobraba un break y que para que no me imprimiera todo, tenia que sacar el input del bucle for, sino simpre me daba eso.\n",
    "    return\n",
    "\n"
   ]
  },
  {
   "cell_type": "code",
   "execution_count": 139,
   "id": "4495ad88",
   "metadata": {},
   "outputs": [
    {
     "name": "stdout",
     "output_type": "stream",
     "text": [
      "nombre: lirios, precio: 5, cantidad: 21\n"
     ]
    }
   ],
   "source": [
    "buscar_producto(inventario, producto_buscado)"
   ]
  },
  {
   "cell_type": "code",
   "execution_count": 140,
   "id": "e0a82c9c",
   "metadata": {},
   "outputs": [],
   "source": [
    "#4. `actualizar_stock(nombre, cantidad)`: Actualiza el stock de un producto en el inventario. Debe recibir el nombre del producto y la cantidad a agregar o quitar como parámetros\n",
    "def actualizar_stock(nombre, cantidad):\n",
    "    for producto in inventario:\n",
    "        if producto['nombre'] == nombre:\n",
    "            producto['cantidad'] += cantidad\n",
    "            print(f\"El stock de {nombre} ha sido actualizado a {producto['cantidad']}\")\n",
    "            break\n",
    "    else:\n",
    "        print(f\"El producto {nombre} no se encuentra en el inventario.\") \n",
    "    return"
   ]
  },
  {
   "cell_type": "code",
   "execution_count": 141,
   "id": "925d5f79",
   "metadata": {},
   "outputs": [
    {
     "name": "stdout",
     "output_type": "stream",
     "text": [
      "El stock de rosas ha sido actualizado a 25\n"
     ]
    }
   ],
   "source": [
    "actualizar_stock(\"rosas\", 5)"
   ]
  },
  {
   "cell_type": "code",
   "execution_count": 142,
   "id": "94edbb24",
   "metadata": {},
   "outputs": [
    {
     "data": {
      "text/plain": [
       "[{'nombre': 'rosas', 'precio': 7, 'cantidad': 25},\n",
       " {'nombre': 'lirios', 'precio': 5, 'cantidad': 21},\n",
       " {'nombre': 'claveles', 'precio': 3, 'cantidad': 30},\n",
       " {'nombre': 'iris', 'precio': 9, 'cantidad': 10}]"
      ]
     },
     "execution_count": 142,
     "metadata": {},
     "output_type": "execute_result"
    }
   ],
   "source": [
    "inventario"
   ]
  },
  {
   "cell_type": "code",
   "execution_count": 143,
   "id": "b7908d5b",
   "metadata": {},
   "outputs": [],
   "source": [
    "#5 `eliminar_producto(nombre)`: Elimina un producto del inventario por nombre. Debe recibir el nombre del producto como parámetro.\n",
    "def eliminar_producto(nombre):\n",
    "    for producto in inventario:\n",
    "        if producto['nombre'] == nombre:\n",
    "            inventario.remove(producto)\n",
    "            print(f\"El producto {nombre} ha sido eliminado del inventario.\")\n",
    "            break\n",
    "    else:\n",
    "        print(f\"El producto {nombre} no se encuentra en el inventario.\")\n",
    "    return"
   ]
  },
  {
   "cell_type": "code",
   "execution_count": 144,
   "id": "ed98aa88",
   "metadata": {},
   "outputs": [
    {
     "name": "stdout",
     "output_type": "stream",
     "text": [
      "El producto claveles ha sido eliminado del inventario.\n"
     ]
    }
   ],
   "source": [
    "eliminar_producto(\"claveles\")"
   ]
  },
  {
   "cell_type": "code",
   "execution_count": 145,
   "id": "80567fb1",
   "metadata": {},
   "outputs": [
    {
     "data": {
      "text/plain": [
       "[{'nombre': 'rosas', 'precio': 7, 'cantidad': 25},\n",
       " {'nombre': 'lirios', 'precio': 5, 'cantidad': 21},\n",
       " {'nombre': 'iris', 'precio': 9, 'cantidad': 10}]"
      ]
     },
     "execution_count": 145,
     "metadata": {},
     "output_type": "execute_result"
    }
   ],
   "source": [
    "inventario"
   ]
  },
  {
   "cell_type": "code",
   "execution_count": 146,
   "id": "7500f5ba",
   "metadata": {},
   "outputs": [],
   "source": [
    "#6 `calcular_valor_inventario()`: Calcula y muestra el valor total del inventario.\n",
    "def calcular_valor_inventario():\n",
    "    valor_total = 0.0\n",
    "    for producto in inventario:\n",
    "        valor_total += producto['precio'] * producto['cantidad']\n",
    "    print(f\" El valor total del inventario es de {valor_total}\")\n",
    "    return valor_total"
   ]
  },
  {
   "cell_type": "code",
   "execution_count": 147,
   "id": "17eccff7",
   "metadata": {},
   "outputs": [
    {
     "name": "stdout",
     "output_type": "stream",
     "text": [
      " El valor total del inventario es de 370.0\n"
     ]
    },
    {
     "data": {
      "text/plain": [
       "370.0"
      ]
     },
     "execution_count": 147,
     "metadata": {},
     "output_type": "execute_result"
    }
   ],
   "source": [
    "calcular_valor_inventario()"
   ]
  },
  {
   "cell_type": "code",
   "execution_count": 148,
   "id": "3975f687",
   "metadata": {},
   "outputs": [
    {
     "data": {
      "text/plain": [
       "[{'nombre': 'rosas', 'precio': 7, 'cantidad': 25},\n",
       " {'nombre': 'lirios', 'precio': 5, 'cantidad': 21},\n",
       " {'nombre': 'iris', 'precio': 9, 'cantidad': 10}]"
      ]
     },
     "execution_count": 148,
     "metadata": {},
     "output_type": "execute_result"
    }
   ],
   "source": [
    "inventario"
   ]
  },
  {
   "cell_type": "code",
   "execution_count": 149,
   "id": "d3c36b50",
   "metadata": {},
   "outputs": [],
   "source": [
    "#7 `realizar_compra()`: Permite a un cliente realizar una compra seleccionando productos del inventario. Debe interactuar con el cliente para seleccionar productos y calcular el costo total de la compra.\n",
    "#Utiliza un bucle `while` para permitir al cliente realizar múltiples compras.\n",
    "#Muestra el inventario y solicita al cliente ingresar el nombre del producto que desea comprar.\n",
    "#Registra los productos seleccionados en un carrito y actualiza el inventario        \n",
    "\n",
    "def realizar_compra(inventario):\n",
    "    carrito = []\n",
    "    total_compra = 0.0\n",
    "    ver_inventario()\n",
    "    while True:\n",
    "        producto_compra = input(\"Elige la flor que mas te guste (o 'salir' para finalizar): \")\n",
    "        if producto_compra.lower() != 'salir':\n",
    "            cantidad_compra = int(input(\"Ingrese la cantidad que desea comprar: \"))\n",
    "            for producto in inventario:\n",
    "                if producto['nombre'] == producto_compra and producto['cantidad'] >= cantidad_compra:\n",
    "                    carrito.append({'nombre': producto['nombre'], 'cantidad': cantidad_compra, 'precio': producto['precio']})\n",
    "                    total_compra += producto['precio'] * cantidad_compra\n",
    "                    producto['cantidad'] -= cantidad_compra\n",
    "                    print(f\"Agregado {cantidad_compra} de {producto['nombre']} al carrito.\")\n",
    "                    break\n",
    "            else:\n",
    "                print(f\"El producto {producto_compra} no está disponible o no hay suficiente stock.\")\n",
    "            print(f\"Total de la compra: {total_compra},\")\n",
    "            clientes['compras'].append(carrito)\n",
    "            global ventas_totales\n",
    "            ventas_totales += total_compra\n",
    "            print(f\"Ventas totales: {ventas_totales}\")\n",
    "            break\n",
    "        return"
   ]
  },
  {
   "cell_type": "code",
   "execution_count": 150,
   "id": "05e6120e",
   "metadata": {},
   "outputs": [
    {
     "name": "stdout",
     "output_type": "stream",
     "text": [
      "Inventario de productos:\n",
      "nombre: rosas, precio: 7, cantidad: 25\n",
      "nombre: lirios, precio: 5, cantidad: 21\n",
      "nombre: iris, precio: 9, cantidad: 10\n",
      "Agregado 1 de lirios al carrito.\n",
      "Total de la compra: 5.0,\n"
     ]
    },
    {
     "ename": "TypeError",
     "evalue": "list indices must be integers or slices, not str",
     "output_type": "error",
     "traceback": [
      "\u001b[1;31m---------------------------------------------------------------------------\u001b[0m",
      "\u001b[1;31mTypeError\u001b[0m                                 Traceback (most recent call last)",
      "Cell \u001b[1;32mIn[150], line 1\u001b[0m\n\u001b[1;32m----> 1\u001b[0m realizar_compra(inventario)\n",
      "Cell \u001b[1;32mIn[149], line 24\u001b[0m, in \u001b[0;36mrealizar_compra\u001b[1;34m(inventario)\u001b[0m\n\u001b[0;32m     22\u001b[0m     \u001b[38;5;28mprint\u001b[39m(\u001b[38;5;124mf\u001b[39m\u001b[38;5;124m\"\u001b[39m\u001b[38;5;124mEl producto \u001b[39m\u001b[38;5;132;01m{\u001b[39;00mproducto_compra\u001b[38;5;132;01m}\u001b[39;00m\u001b[38;5;124m no está disponible o no hay suficiente stock.\u001b[39m\u001b[38;5;124m\"\u001b[39m)\n\u001b[0;32m     23\u001b[0m \u001b[38;5;28mprint\u001b[39m(\u001b[38;5;124mf\u001b[39m\u001b[38;5;124m\"\u001b[39m\u001b[38;5;124mTotal de la compra: \u001b[39m\u001b[38;5;132;01m{\u001b[39;00mtotal_compra\u001b[38;5;132;01m}\u001b[39;00m\u001b[38;5;124m,\u001b[39m\u001b[38;5;124m\"\u001b[39m)\n\u001b[1;32m---> 24\u001b[0m clientes[\u001b[38;5;124m'\u001b[39m\u001b[38;5;124mcompras\u001b[39m\u001b[38;5;124m'\u001b[39m]\u001b[38;5;241m.\u001b[39mappend(carrito)\n\u001b[0;32m     25\u001b[0m \u001b[38;5;28;01mglobal\u001b[39;00m ventas_totales\n\u001b[0;32m     26\u001b[0m ventas_totales \u001b[38;5;241m+\u001b[39m\u001b[38;5;241m=\u001b[39m total_compra\n",
      "\u001b[1;31mTypeError\u001b[0m: list indices must be integers or slices, not str"
     ]
    }
   ],
   "source": [
    "realizar_compra(inventario)"
   ]
  },
  {
   "cell_type": "code",
   "execution_count": 151,
   "id": "ff39aae0",
   "metadata": {},
   "outputs": [],
   "source": [
    "#8 `procesar_pago()`: Procesa el pago de una compra, calcula el cambio y muestra un mensaje de confirmación.\n",
    "#- Utiliza un bloque `try...except` para manejar excepciones.\n",
    "#- Solicita al cliente ingresar la cantidad total y la cantidad de pago usando un input.\n",
    "#- Calcula el cambio y muestra un mensaje de pago exitoso o un error en caso de monto insuficiente.\n",
    "\n",
    "def procesar_pago(total_compra):\n",
    "    while True:\n",
    "        try:\n",
    "            monto_pago = float(input(\"Ingrese el monto de pago: \"))\n",
    "            if monto_pago < total_compra:\n",
    "                raise ValueError(\"El monto de pago es insuficiente.\")\n",
    "            cambio = monto_pago - total_compra\n",
    "            print(f\"Pago exitoso. Su cambio es: {cambio}\")\n",
    "            return cambio\n",
    "        except ValueError as e:\n",
    "            print(e)\n",
    "            continue\n",
    "    return"
   ]
  },
  {
   "cell_type": "code",
   "execution_count": 152,
   "id": "38512d2e",
   "metadata": {},
   "outputs": [
    {
     "name": "stdout",
     "output_type": "stream",
     "text": [
      "Pago exitoso. Su cambio es: 10.0\n"
     ]
    },
    {
     "data": {
      "text/plain": [
       "10.0"
      ]
     },
     "execution_count": 152,
     "metadata": {},
     "output_type": "execute_result"
    }
   ],
   "source": [
    "procesar_pago(20.0)"
   ]
  }
 ],
 "metadata": {
  "kernelspec": {
   "display_name": "base",
   "language": "python",
   "name": "python3"
  },
  "language_info": {
   "codemirror_mode": {
    "name": "ipython",
    "version": 3
   },
   "file_extension": ".py",
   "mimetype": "text/x-python",
   "name": "python",
   "nbconvert_exporter": "python",
   "pygments_lexer": "ipython3",
   "version": "3.12.7"
  }
 },
 "nbformat": 4,
 "nbformat_minor": 5
}
